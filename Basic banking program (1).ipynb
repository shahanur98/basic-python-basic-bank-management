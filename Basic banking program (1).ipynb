{
 "cells": [
  {
   "cell_type": "code",
   "execution_count": 9,
   "id": "9518c644-4557-49da-aebf-9a9816780ec2",
   "metadata": {},
   "outputs": [
    {
     "name": "stdout",
     "output_type": "stream",
     "text": [
      "Welcome to our Optimus Prime Bank\n",
      "for login press 1 \n",
      "for registration press 2\n"
     ]
    },
    {
     "name": "stdin",
     "output_type": "stream",
     "text": [
      "Press 1 or 2 2\n",
      "Enter your name hamja\n",
      "Enter account number 234542626\n",
      "Enter your deposit amount 1850\n"
     ]
    },
    {
     "name": "stdout",
     "output_type": "stream",
     "text": [
      "Name hamja \n",
      "Account number 234542626 \n",
      "Amount 1850.0\n"
     ]
    },
    {
     "name": "stdin",
     "output_type": "stream",
     "text": [
      "If you want to deposit press 1  \n",
      "For withdrawal press 2:  1\n",
      "Enter the amount to deposit:  0\n"
     ]
    },
    {
     "name": "stdout",
     "output_type": "stream",
     "text": [
      "Deposit successful!\n",
      "Updated balance: 1850.0\n"
     ]
    }
   ],
   "source": [
    "# welcome prompt\n",
    "def create_file(number,name,amount):\n",
    "    file_name= f\"{number}.txt\"\n",
    "    file2=open(file_name,'w')\n",
    "    file2.write(f\"Name {name} \\nAccount number {number} \\nAmount {amount}\")\n",
    "    file2.close()\n",
    "\n",
    "\n",
    "def account_details(number):\n",
    "    try:\n",
    "        file_name= f\"{number}.txt\"\n",
    "        file3=open(file_name,'r')\n",
    "        print(file3.read())\n",
    "        file3.close()\n",
    "        return True\n",
    "\n",
    "    except Exception:\n",
    "        print(\"This account does not exist\")\n",
    "        return False\n",
    "\n",
    "def get_initial_amount(number):\n",
    "    file_name = f\"{number}.txt\"\n",
    "    with open(file_name, 'r') as file3:\n",
    "        data = file3.readlines()\n",
    "        for line in data:\n",
    "            if line.startswith(\"Final Amount:\"):\n",
    "                return float(line.split(\":\")[1].strip())  \n",
    "    return 0.0  \n",
    "\n",
    "\n",
    "def deposit_withdrawal(account_number, initial_amount):\n",
    "    dw = int(input(\"If you want to deposit press 1  \\nFor withdrawal press 2: \"))\n",
    "    if dw == 1:\n",
    "        amount = float(input(\"Enter the amount to deposit: \"))\n",
    "        deposit_amount = amount\n",
    "        final_amount = initial_amount + deposit_amount\n",
    "        file_name = f\"{account_number}.txt\"\n",
    "        with open(file_name, 'a') as file2:  \n",
    "            file2.write(f\"\\nDeposit Amount: {deposit_amount}\\nFinal Amount: {final_amount}\")\n",
    "        print(\"Deposit successful!\")\n",
    "        print(f\"Updated balance: {final_amount}\")\n",
    "  \n",
    "    elif dw == 2:\n",
    "        amount = float(input(\"Enter the amount to withdraw: \"))\n",
    "        if amount > initial_amount:\n",
    "            print(\"Insufficient funds!\")\n",
    "        else:\n",
    "            withdraw_amount = amount\n",
    "            final_amount = initial_amount - withdraw_amount\n",
    "            file_name = f\"{account_number}.txt\"\n",
    "            with open(file_name, 'a') as file2:  \n",
    "                file2.write(f\"\\nWithdraw Amount: {withdraw_amount}\\nFinal Amount: {final_amount}\")\n",
    "            print(\"Withdrawal successful!\")\n",
    "            print(f\"Updated balance: {final_amount}\")\n",
    "    \n",
    "    else:\n",
    "        print(\"Please enter a valid number!\")\n",
    "\n",
    "\n",
    "def Login(self):\n",
    "    print(\"Welcome to our Optimus Prime Bank\")\n",
    "    print(\"for login press 1 \\nfor registration press 2\")\n",
    "    a= int(input(\"Press 1 or 2\"))\n",
    "    \n",
    "    if a==1:\n",
    "        account_number= input(\"Enter your Account number\")\n",
    "        acc_d = account_details(account_number)\n",
    "        if acc_d:\n",
    "            initial_amount = get_initial_amount(account_number)\n",
    "            deposit_withdrawal(account_number, initial_amount)\n",
    "        \n",
    "        \n",
    "    elif a==2:\n",
    "        Name= input(\"Enter your name\")\n",
    "        account_number = input(\"Enter account number\")\n",
    "        intial_amount = float(input(\"Enter your deposit amount\"))\n",
    "        create_file(account_number,Name,intial_amount)\n",
    "        account_details(account_number)\n",
    "        deposit_withdrawal(account_number,intial_amount)\n",
    "        \n",
    "    else :\n",
    "        print(\"Please write valid number\")\n",
    "\n",
    "\n",
    "\n",
    "    \n",
    "Login('optimus')\n"
   ]
  },
  {
   "cell_type": "code",
   "execution_count": null,
   "id": "fd308342-7187-49b6-908b-c4cca5bfb3a6",
   "metadata": {},
   "outputs": [],
   "source": []
  }
 ],
 "metadata": {
  "kernelspec": {
   "display_name": "Python 3 (ipykernel)",
   "language": "python",
   "name": "python3"
  },
  "language_info": {
   "codemirror_mode": {
    "name": "ipython",
    "version": 3
   },
   "file_extension": ".py",
   "mimetype": "text/x-python",
   "name": "python",
   "nbconvert_exporter": "python",
   "pygments_lexer": "ipython3",
   "version": "3.12.7"
  }
 },
 "nbformat": 4,
 "nbformat_minor": 5
}
