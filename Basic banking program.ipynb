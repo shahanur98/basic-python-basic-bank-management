# welcome prompt
def create_file(number,name,amount):
    file_name= f"{number}.txt"
    file2=open(file_name,'w')
    file2.write(f"Name {name} \nAccount number {number} \nAmount {amount}")
    file2.close()


def account_details(number):
    try:
        file_name= f"{number}.txt"
        file3=open(file_name,'r')
        print(file3.read())
        file3.close()
        return True

    except Exception:
        print("This account does not exist")
        return False

def get_initial_amount(number):
    file_name = f"{number}.txt"
    with open(file_name, 'r') as file3:
        data = file3.readlines()
        for line in data:
            if line.startswith("Final Amount:"):
                return float(line.split(":")[1].strip())  
    return 0.0  


def deposit_withdrawal(account_number, initial_amount):
    dw = int(input("If you want to deposit press 1  \nFor withdrawal press 2: "))
    if dw == 1:
        amount = float(input("Enter the amount to deposit: "))
        deposit_amount = amount
        final_amount = initial_amount + deposit_amount
        file_name = f"{account_number}.txt"
        with open(file_name, 'a') as file2:  
            file2.write(f"\nDeposit Amount: {deposit_amount}\nFinal Amount: {final_amount}")
        print("Deposit successful!")
        print(f"Updated balance: {final_amount}")
  
    elif dw == 2:
        amount = float(input("Enter the amount to withdraw: "))
        if amount > initial_amount:
            print("Insufficient funds!")
        else:
            withdraw_amount = amount
            final_amount = initial_amount - withdraw_amount
            file_name = f"{account_number}.txt"
            with open(file_name, 'a') as file2:  
                file2.write(f"\nWithdraw Amount: {withdraw_amount}\nFinal Amount: {final_amount}")
            print("Withdrawal successful!")
            print(f"Updated balance: {final_amount}")
    
    else:
        print("Please enter a valid number!")


def Login(self):
    print("Welcome to our Optimus Prime Bank")
    print("for login press 1 \nfor registration press 2")
    a= int(input("Press 1 or 2"))
    
    if a==1:
        account_number= input("Enter your Account number")
        acc_d = account_details(account_number)
        if acc_d:
            initial_amount = get_initial_amount(account_number)
            deposit_withdrawal(account_number, initial_amount)
        
        
    elif a==2:
        Name= input("Enter your name")
        account_number = input("Enter account number")
        intial_amount = float(input("Enter your deposit amount"))
        create_file(account_number,Name,intial_amount)
        account_details(account_number)
        deposit_withdrawal(account_number,intial_amount)
        
    else :
        print("Please write valid number")



    
Login('optimus')

