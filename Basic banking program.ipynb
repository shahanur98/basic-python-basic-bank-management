{
 "cells": [
  {
   "cell_type": "code",
   "execution_count": null,
   "id": "9518c644-4557-49da-aebf-9a9816780ec2",
   "metadata": {},
   "outputs": [
    {
     "name": "stdout",
     "output_type": "stream",
     "text": [
      "Welcome to our optimus prime bank\n",
      "for login press 1\n",
      " for registration press 2\n"
     ]
    }
   ],
   "source": [
    "# welcome prompt\n",
    "def Login(self):\n",
    "    print(\"Welcome to our optimus prime bank\")\n",
    "    print(\"for login press 1\\n for registration press 2\")\n",
    "    a= int(input(\"Press 1 or 2\"))\n",
    "    if a==1:\n",
    "        account_number= input(\"Enter your Account number\")\n",
    "        password= input(\"Enter your password\")\n",
    "    elif a==2:\n",
    "        Name= input(\"Enter your name\")\n",
    "        Address= input(\"Enter your Address\")\n",
    "        Password= input(\"Enter your password\")\n",
    "        account_number = input(\"Enter account number\")\n",
    "    else :\n",
    "        print(\"Please write valid number\")\n",
    "def savefile():\n",
    "    a= Login.account_number\n",
    "    file= open(\"a.txt\",'x')\n",
    "    file.write(\"\")\n",
    "Login('optimus')\n",
    "    "
   ]
  },
  {
   "cell_type": "code",
   "execution_count": null,
   "id": "fd308342-7187-49b6-908b-c4cca5bfb3a6",
   "metadata": {},
   "outputs": [],
   "source": []
  }
 ],
 "metadata": {
  "kernelspec": {
   "display_name": "Python 3 (ipykernel)",
   "language": "python",
   "name": "python3"
  },
  "language_info": {
   "codemirror_mode": {
    "name": "ipython",
    "version": 3
   },
   "file_extension": ".py",
   "mimetype": "text/x-python",
   "name": "python",
   "nbconvert_exporter": "python",
   "pygments_lexer": "ipython3",
   "version": "3.12.7"
  }
 },
 "nbformat": 4,
 "nbformat_minor": 5
}
